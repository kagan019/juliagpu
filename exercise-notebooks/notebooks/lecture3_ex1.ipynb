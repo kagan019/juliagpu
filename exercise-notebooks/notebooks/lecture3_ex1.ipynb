{
 "cells": [
  {
   "cell_type": "markdown",
   "metadata": {},
   "source": [
    "## Exercise 1 - **Acoustic waves in 2D**"
   ]
  },
  {
   "cell_type": "markdown",
   "metadata": {},
   "source": [
    "The goal of this exercise is to:\n",
    "- Implement 2D wave equation\n",
    "- Consolidate the finite-difference discretisation\n",
    "- Familiarise with visualisation"
   ]
  },
  {
   "cell_type": "markdown",
   "metadata": {},
   "source": [
    "The goal of this first exercise is to repeat the steps we did in class with the diffusion codes going from the 1D to the 2D implementation.\n",
    "\n",
    "Starting from the 1D acoustic wave equation we discussed in lecture 3, extend the 1D code to a 2D configuration. Use the same parameters for the $y$-direction quantities as the one for the $x$-direction."
   ]
  },
  {
   "cell_type": "markdown",
   "metadata": {},
   "source": [
    "> 💡 hint: Don't forget to initialise (pre-allocate) all arrays (vectors) needed in the calculations."
   ]
  },
  {
   "cell_type": "markdown",
   "metadata": {},
   "source": [
    "### Task 1\n",
    "\n",
    "Create a new Julia script `acoustic_2D_v1.jl` for this homework. The script should produce a `heatmap()` plot that updates upon time steps, with labelled axes and physical time displayed as title.\n",
    "\n",
    "Use `nx = 128` and `ny = 129` grid points."
   ]
  },
  {
   "cell_type": "markdown",
   "metadata": {},
   "source": [
    "> 💡 hint: During development, having `nx ≠ ny` may prevent errors with staggering to occur."
   ]
  },
  {
   "cell_type": "code",
   "execution_count": 21,
   "metadata": {},
   "outputs": [],
   "source": [
    "using Plots\n",
    "\n",
    "@views function acoustic_2D()\n",
    "    # Physics\n",
    "    Lx, Ly = 10.0, 10.0\n",
    "    ρ      = 1.0\n",
    "    K      = 1.0\n",
    "    ttot   = 20.0\n",
    "    # Numerics\n",
    "    nx, ny = 128, 129\n",
    "    nout   = 10\n",
    "    # Derived numerics\n",
    "    dx, dy = Lx/nx, Ly/ny\n",
    "    dt     = min(dx, dy)/sqrt(K/ρ)/2.1\n",
    "    nt     = cld(ttot, dt)\n",
    "    xc, yc = LinRange(dx/2, Lx-dx/2, nx), LinRange(dy/2, Ly-dy/2, ny)\n",
    "    # Array initialisation\n",
    "    P      =  exp.(.-(xc .- Lx/2).^2 .-(yc' .- Ly/2).^2)\n",
    "    Vx     = zeros(Float64, nx-1,ny-2)\n",
    "    Vy     = zeros(Float64, nx-2,ny-1)\n",
    "    # Time loop\n",
    "    for it = 1:nt\n",
    "        Vx  .= Vx .- dt./ρ.*diff(P[:,2:end-1],dims=1)./dx\n",
    "        Vy  .= Vy .- dt./ρ.*diff(P[2:end-1,:],dims=2)./dy\n",
    "        P[2:end-1,2:end-1] .= P[2:end-1,2:end-1] .- dt.*K.*(diff(Vx,dims=1)./dx .+ diff(Vy,dims=2)./dy)\n",
    "        if it % nout == 0\n",
    "            opts = (aspect_ratio=1, xlims=(xc[1], xc[end]), ylims=(yc[1], yc[end]), clims=(-0.25, 0.25), c=:davos, xlabel=\"Lx\", ylabel=\"Ly\", title=\"time = $(round(it*dt, sigdigits=3))\")\n",
    "            heatmap(xc, yc, P'; opts...)\n",
    "        end\n",
    "    end\n",
    "end\n",
    "\n",
    "acoustic_2D()\n"
   ]
  },
  {
   "cell_type": "markdown",
   "metadata": {},
   "source": [
    "### Task 2\n",
    "\n",
    "Record the pressure at position $(x,y) = (5,7)$ during the entire simulation and report it as a subplot (pressure as function of time)."
   ]
  },
  {
   "cell_type": "markdown",
   "metadata": {},
   "source": [
    "> 💡 hint: Check out e.g. [here](https://docs.juliaplots.org/latest/tutorial/#Combining-Multiple-Plots-as-Subplots) for inspiration about subplots."
   ]
  }
 ],
 "metadata": {
  "kernelspec": {
   "display_name": "Julia 1.7.1",
   "language": "julia",
   "name": "julia-1.7"
  },
  "language_info": {
   "file_extension": ".jl",
   "mimetype": "application/julia",
   "name": "julia",
   "version": "1.7.1"
  }
 },
 "nbformat": 4,
 "nbformat_minor": 3
}
