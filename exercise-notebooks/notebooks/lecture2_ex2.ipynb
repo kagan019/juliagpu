{
 "cells": [
  {
   "cell_type": "markdown",
   "metadata": {},
   "source": [
    "## Exercise 2 - **Advection-Diffusion**"
   ]
  },
  {
   "cell_type": "markdown",
   "metadata": {},
   "source": [
    "The goal of this exercise is to consolidate:\n",
    "- 1D advection-diffusion\n",
    "- Non-dimensional numbers"
   ]
  },
  {
   "cell_type": "markdown",
   "metadata": {},
   "source": [
    "The goal of this exercise is to combine advection and diffusion processes acting on the concentration of a quantity $C$.\n",
    "\n",
    "From what you learned in class, write an advection-diffusion code having following physical input parameters:\n",
    "\n",
    "```\n",
    "# Physics\n",
    "Lx    = 10.0  # domain length\n",
    "D     = 0.4   # diffusion coefficient\n",
    "vx    = 1.0   # advection velocity\n",
    "ttot  = 2.0   # total simulation time\n",
    "```\n",
    "\n",
    "Discretise your domain in 128 finite-difference cells such that the first cell centre is located at `dx/2` and the last cell centre at `Lx-dx/2`. Use following explicit time step limiters:\n",
    "\n",
    "```julia\n",
    "dtd   = dx^2/D/2.6\n",
    "dta   = dx/vx\n",
    "dt    = min(dtd, dta)\n",
    "```\n",
    "\n",
    "As initial condition, define a Gaussian profile of concentration `C` of amplitude and standard deviation equal to 1, located at `0.3*Lx`.\n",
    "\n",
    "Keep the concentration at the boundaries at `C=0`."
   ]
  },
  {
   "cell_type": "code",
   "execution_count": 17,
   "metadata": {},
   "outputs": [
    {
     "ename": "UndefVarError",
     "evalue": "UndefVarError: Ceq not defined",
     "output_type": "error",
     "traceback": [
      "UndefVarError: Ceq not defined\n",
      "\n",
      "Stacktrace:\n",
      "  [1] top-level scope\n",
      "    @ ~/Desktop/juliagpu/exercise-notebooks/notebooks/lecture2_ex2.ipynb:29\n",
      "  [2] eval\n",
      "    @ ./boot.jl:373 [inlined]\n",
      "  [3] include_string(mapexpr::typeof(REPL.softscope), mod::Module, code::String, filename::String)\n",
      "    @ Base ./loading.jl:1196\n",
      "  [4] #invokelatest#2\n",
      "    @ ./essentials.jl:716 [inlined]\n",
      "  [5] invokelatest\n",
      "    @ ./essentials.jl:714 [inlined]\n",
      "  [6] (::VSCodeServer.var\"#150#151\"{VSCodeServer.NotebookRunCellArguments, String})()\n",
      "    @ VSCodeServer ~/.vscode-oss/extensions/julialang.language-julia-1.5.9/scripts/packages/VSCodeServer/src/serve_notebook.jl:18\n",
      "  [7] withpath(f::VSCodeServer.var\"#150#151\"{VSCodeServer.NotebookRunCellArguments, String}, path::String)\n",
      "    @ VSCodeServer ~/.vscode-oss/extensions/julialang.language-julia-1.5.9/scripts/packages/VSCodeServer/src/repl.jl:185\n",
      "  [8] notebook_runcell_request(conn::VSCodeServer.JSONRPC.JSONRPCEndpoint{Base.PipeEndpoint, Base.PipeEndpoint}, params::VSCodeServer.NotebookRunCellArguments)\n",
      "    @ VSCodeServer ~/.vscode-oss/extensions/julialang.language-julia-1.5.9/scripts/packages/VSCodeServer/src/serve_notebook.jl:14\n",
      "  [9] dispatch_msg(x::VSCodeServer.JSONRPC.JSONRPCEndpoint{Base.PipeEndpoint, Base.PipeEndpoint}, dispatcher::VSCodeServer.JSONRPC.MsgDispatcher, msg::Dict{String, Any})\n",
      "    @ VSCodeServer.JSONRPC ~/.vscode-oss/extensions/julialang.language-julia-1.5.9/scripts/packages/JSONRPC/src/typed.jl:67\n",
      " [10] serve_notebook(pipename::String; crashreporting_pipename::String)\n",
      "    @ VSCodeServer ~/.vscode-oss/extensions/julialang.language-julia-1.5.9/scripts/packages/VSCodeServer/src/serve_notebook.jl:94\n",
      " [11] top-level scope\n",
      "    @ ~/.vscode-oss/extensions/julialang.language-julia-1.5.9/scripts/notebook/notebook.jl:12"
     ]
    }
   ],
   "source": [
    "using Plots\n",
    "\n",
    "# Physics\n",
    "Lx    = 10.0  # domain length\n",
    "Pe = 0.0001\n",
    "vx    = 1.0   # advection velocity\n",
    "ttot  = 2.0   # total simulation time\n",
    "\n",
    "\n",
    "# Numerics\n",
    "nx   = 128\n",
    "nout = 10\n",
    "# Derived numerics\n",
    "D = Lx/Pe\n",
    "dx   = Lx/nx\n",
    "xc   = LinRange(dx/2, Lx-dx/2, nx)\n",
    "dta   = dx/vx\n",
    "dtd   = dx^2/D/2.6\n",
    "dt    = min(dtd, dta)\n",
    "nt   = cld(ttot, dt)\n",
    "# Array initialisation\n",
    "C    =  exp.(.-(xc .- 0.3*Lx).^2)\n",
    "Ci   =  copy(C)\n",
    "dCdt = zeros(Float64, nx-2);\n",
    "qx   = zeros(Float64, nx-1)\n",
    "# Time loop\n",
    "for it = 1:nt\n",
    "    qx         .= .-D.*diff(C)./dx\n",
    "    dCdt     .= (.-vx.*diff(C)./dx)[2:end] + .-diff(qx)./dx\n",
    "    C[2:end-1] .= C[2:end-1] .+ dt.*dCdt\n",
    "    # add solution\n",
    "    if it % nout == 0\n",
    "        # IJulia.clear_output(true); \n",
    "        plot(xc, Ci, lw=2, label=\"C initial\")\n",
    "        display(plot!(xc, C, lw=2, xlims=(xc[1], xc[end]), ylims=(0.0, 1.0), xlabel=\"Lx\", ylabel=\"Concentration\", title=\"time = $(round(it*dt, sigdigits=3))\", framestyle=:box, label=\"C\"))\n",
    "        sleep(0.1)\n",
    "    end\n",
    "end"
   ]
  },
  {
   "cell_type": "markdown",
   "metadata": {},
   "source": [
    "> 💡 hint: Don't forget to initialise (pre-allocate) all arrays (vectors) needed in the calculations."
   ]
  },
  {
   "cell_type": "markdown",
   "metadata": {},
   "source": [
    "### Question 1\n",
    "\n",
    "Report the initial and final distribution of concentration on a figure with axis-label, title, and plotted line labels. Also, report on the figure (as text in one label of your choice) the maximal final concentration value and its x location.\n",
    "\n",
    "### Question 2\n",
    "\n",
    "Repeat the exercise but introduce the non-dimensional [Péclet number](https://en.wikipedia.org/wiki/Péclet_number) $Pe = L~vx/D$ as physical quantity defining the diffusion coefficient D as a `# Derived physics` quantity. Confirm the if $Pe >> 1$ the diffusion happens in a much longer time compared to the advection, and the opposite for $Pe << 1$."
   ]
  }
 ],
 "metadata": {
  "kernelspec": {
   "display_name": "Julia 1.7.1",
   "language": "julia",
   "name": "julia-1.7"
  },
  "language_info": {
   "file_extension": ".jl",
   "mimetype": "application/julia",
   "name": "julia",
   "version": "1.7.1"
  }
 },
 "nbformat": 4,
 "nbformat_minor": 3
}
