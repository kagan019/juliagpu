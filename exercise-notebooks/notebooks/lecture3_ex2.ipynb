{
 "cells": [
  {
   "cell_type": "markdown",
   "metadata": {},
   "source": [
    "## Exercise 2 - **Acoustic waves in 2D - v2**"
   ]
  },
  {
   "cell_type": "markdown",
   "metadata": {},
   "source": [
    "The goal of this exercise is to:\n",
    "- Implement 2D wave equation\n",
    "- Consolidate the finite-difference discretisation\n",
    "- Familiarise with visualisation"
   ]
  },
  {
   "cell_type": "markdown",
   "metadata": {},
   "source": [
    "In this second exercise, you will implement a more concise version of the 2D wave equation.\n",
    "\n",
    "Starting from the 2D wave equation code from exercise 1, reformulate the physics calculation without the explicit definition of the $q_x, q_y$ terms; only use velocities $V_x, V_y$ and pressure $P$.\n",
    "\n",
    "### Task 1\n",
    "\n",
    "Create a new Julia script `acoustic_2D_v2.jl` for this homework. The script should produce a `heatmap()` plot that updates upon time steps, with labelled axes and physical time displayed as title.\n",
    "\n",
    "Use `nx = 128` and `ny = 129` grid points and the same parameters as for exercise 1.\n",
    "\n",
    "### Task 2\n",
    "\n",
    "Create a 3-panels plot that shows the 2D pressure $P$ and the velocity $V_x$ fields, as well as the 1D cross-section of the pressure field at $Ly/2$."
   ]
  },
  {
   "cell_type": "code",
   "execution_count": 13,
   "metadata": {},
   "outputs": [
    {
     "name": "stdout",
     "output_type": "stream",
     "text": []
    },
    {
     "name": "stdout",
     "output_type": "stream",
     "text": []
    },
    {
     "name": "stdout",
     "output_type": "stream",
     "text": []
    },
    {
     "name": "stdout",
     "output_type": "stream",
     "text": []
    },
    {
     "name": "stdout",
     "output_type": "stream",
     "text": []
    },
    {
     "name": "stdout",
     "output_type": "stream",
     "text": []
    },
    {
     "name": "stdout",
     "output_type": "stream",
     "text": []
    },
    {
     "name": "stdout",
     "output_type": "stream",
     "text": []
    },
    {
     "name": "stdout",
     "output_type": "stream",
     "text": []
    },
    {
     "name": "stdout",
     "output_type": "stream",
     "text": []
    },
    {
     "name": "stdout",
     "output_type": "stream",
     "text": []
    },
    {
     "name": "stdout",
     "output_type": "stream",
     "text": []
    },
    {
     "name": "stdout",
     "output_type": "stream",
     "text": []
    },
    {
     "name": "stdout",
     "output_type": "stream",
     "text": []
    },
    {
     "name": "stdout",
     "output_type": "stream",
     "text": []
    },
    {
     "name": "stdout",
     "output_type": "stream",
     "text": []
    },
    {
     "name": "stdout",
     "output_type": "stream",
     "text": []
    },
    {
     "name": "stdout",
     "output_type": "stream",
     "text": []
    },
    {
     "name": "stdout",
     "output_type": "stream",
     "text": []
    },
    {
     "name": "stdout",
     "output_type": "stream",
     "text": []
    },
    {
     "name": "stdout",
     "output_type": "stream",
     "text": []
    },
    {
     "name": "stdout",
     "output_type": "stream",
     "text": []
    },
    {
     "name": "stdout",
     "output_type": "stream",
     "text": []
    },
    {
     "name": "stdout",
     "output_type": "stream",
     "text": []
    },
    {
     "name": "stdout",
     "output_type": "stream",
     "text": []
    },
    {
     "name": "stdout",
     "output_type": "stream",
     "text": []
    },
    {
     "name": "stdout",
     "output_type": "stream",
     "text": []
    },
    {
     "name": "stdout",
     "output_type": "stream",
     "text": []
    },
    {
     "name": "stdout",
     "output_type": "stream",
     "text": []
    },
    {
     "name": "stdout",
     "output_type": "stream",
     "text": []
    },
    {
     "name": "stdout",
     "output_type": "stream",
     "text": []
    },
    {
     "name": "stdout",
     "output_type": "stream",
     "text": []
    },
    {
     "name": "stdout",
     "output_type": "stream",
     "text": []
    },
    {
     "name": "stdout",
     "output_type": "stream",
     "text": []
    },
    {
     "name": "stdout",
     "output_type": "stream",
     "text": []
    },
    {
     "name": "stdout",
     "output_type": "stream",
     "text": []
    },
    {
     "name": "stdout",
     "output_type": "stream",
     "text": []
    },
    {
     "name": "stdout",
     "output_type": "stream",
     "text": []
    },
    {
     "name": "stdout",
     "output_type": "stream",
     "text": []
    },
    {
     "name": "stdout",
     "output_type": "stream",
     "text": []
    },
    {
     "name": "stdout",
     "output_type": "stream",
     "text": []
    },
    {
     "name": "stdout",
     "output_type": "stream",
     "text": []
    },
    {
     "name": "stdout",
     "output_type": "stream",
     "text": []
    },
    {
     "name": "stdout",
     "output_type": "stream",
     "text": []
    },
    {
     "name": "stdout",
     "output_type": "stream",
     "text": []
    },
    {
     "name": "stdout",
     "output_type": "stream",
     "text": []
    },
    {
     "name": "stdout",
     "output_type": "stream",
     "text": []
    },
    {
     "name": "stdout",
     "output_type": "stream",
     "text": []
    },
    {
     "name": "stdout",
     "output_type": "stream",
     "text": []
    },
    {
     "name": "stdout",
     "output_type": "stream",
     "text": []
    },
    {
     "name": "stdout",
     "output_type": "stream",
     "text": []
    },
    {
     "name": "stdout",
     "output_type": "stream",
     "text": []
    },
    {
     "name": "stdout",
     "output_type": "stream",
     "text": []
    },
    {
     "name": "stdout",
     "output_type": "stream",
     "text": []
    },
    {
     "name": "stderr",
     "output_type": "stream",
     "text": [
      "attempt to save state beyond implementation limit\n",
      "attempt to save state beyond implementation limit\n",
      "attempt to save state beyond implementation limit\n",
      "attempt to save state beyond implementation limit\n",
      "attempt to save state beyond implementation limit\n",
      "attempt to save state beyond implementation limit\n",
      "attempt to save state beyond implementation limit\n",
      "attempt to save state beyond implementation limit\n",
      "attempt to save state beyond implementation limit\n",
      "attempt to save state beyond implementation limit\n",
      "attempt to save state beyond implementation limit\n",
      "attempt to save state beyond implementation limit\n",
      "attempt to save state beyond implementation limit\n",
      "attempt to save state beyond implementation limit\n",
      "attempt to save state beyond implementation limit\n",
      "attempt to save state beyond implementation limit\n",
      "attempt to save state beyond implementation limit\n",
      "attempt to save state beyond implementation limit\n",
      "attempt to save state beyond implementation limit\n",
      "attempt to save state beyond implementation limit\n",
      "attempt to save state beyond implementation limit\n",
      "attempt to save state beyond implementation limit\n",
      "attempt to save state beyond implementation limit\n",
      "attempt to save state beyond implementation limit\n",
      "attempt to save state beyond implementation limit\n",
      "attempt to save state beyond implementation limit\n",
      "attempt to save state beyond implementation limit\n",
      "attempt to save state beyond implementation limit\n",
      "attempt to save state beyond implementation limit\n",
      "attempt to save state beyond implementation limit\n",
      "attempt to save state beyond implementation limit\n",
      "attempt to save state beyond implementation limit\n",
      "attempt to save state beyond implementation limit\n",
      "attempt to save state beyond implementation limit\n",
      "attempt to save state beyond implementation limit\n",
      "attempt to save state beyond implementation limit\n",
      "attempt to save state beyond implementation limit\n",
      "attempt to save state beyond implementation limit\n",
      "attempt to save state beyond implementation limit\n",
      "attempt to save state beyond implementation limit\n",
      "attempt to save state beyond implementation limit\n",
      "attempt to save state beyond implementation limit\n",
      "attempt to save state beyond implementation limit\n",
      "attempt to save state beyond implementation limit\n",
      "attempt to save state beyond implementation limit\n",
      "attempt to save state beyond implementation limit\n",
      "attempt to save state beyond implementation limit\n",
      "attempt to save state beyond implementation limit\n",
      "attempt to save state beyond implementation limit\n",
      "attempt to save state beyond implementation limit\n",
      "attempt to save state beyond implementation limit\n",
      "attempt to save state beyond implementation limit\n",
      "attempt to save state beyond implementation limit\n",
      "attempt to save state beyond implementation limit\n",
      "attempt to save state beyond implementation limit\n",
      "attempt to save state beyond implementation limit\n",
      "attempt to save state beyond implementation limit\n",
      "attempt to save state beyond implementation limit\n",
      "attempt to save state beyond implementation limit\n",
      "attempt to save state beyond implementation limit\n",
      "attempt to save state beyond implementation limit\n",
      "attempt to save state beyond implementation limit\n",
      "attempt to save state beyond implementation limit\n",
      "attempt to save state beyond implementation limit\n",
      "attempt to save state beyond implementation limit\n",
      "attempt to save state beyond implementation limit\n",
      "attempt to save state beyond implementation limit\n",
      "attempt to save state beyond implementation limit\n",
      "attempt to save state beyond implementation limit\n",
      "attempt to save state beyond implementation limit\n",
      "attempt to save state beyond implementation limit\n",
      "attempt to save state beyond implementation limit\n",
      "attempt to save state beyond implementation limit\n",
      "attempt to save state beyond implementation limit\n",
      "attempt to save state beyond implementation limit\n",
      "attempt to save state beyond implementation limit\n",
      "attempt to save state beyond implementation limit\n",
      "attempt to save state beyond implementation limit\n",
      "attempt to save state beyond implementation limit\n",
      "attempt to save state beyond implementation limit\n",
      "attempt to save state beyond implementation limit\n",
      "attempt to save state beyond implementation limit\n",
      "attempt to save state beyond implementation limit\n",
      "attempt to save state beyond implementation limit\n",
      "attempt to save state beyond implementation limit\n",
      "attempt to save state beyond implementation limit\n",
      "attempt to save state beyond implementation limit\n",
      "attempt to save state beyond implementation limit\n",
      "attempt to save state beyond implementation limit\n",
      "attempt to save state beyond implementation limit\n",
      "attempt to save state beyond implementation limit\n",
      "attempt to save state beyond implementation limit\n",
      "attempt to save state beyond implementation limit\n",
      "attempt to save state beyond implementation limit\n",
      "attempt to save state beyond implementation limit\n",
      "attempt to save state beyond implementation limit\n",
      "attempt to save state beyond implementation limit\n",
      "attempt to save state beyond implementation limit\n",
      "attempt to save state beyond implementation limit\n",
      "attempt to save state beyond implementation limit\n",
      "attempt to save state beyond implementation limit\n",
      "attempt to save state beyond implementation limit\n",
      "attempt to save state beyond implementation limit\n",
      "attempt to save state beyond implementation limit\n",
      "attempt to save state beyond implementation limit\n",
      "attempt to save state beyond implementation limit\n",
      "attempt to save state beyond implementation limit\n",
      "attempt to save state beyond implementation limit\n",
      "attempt to save state beyond implementation limit\n",
      "attempt to save state beyond implementation limit\n",
      "attempt to save state beyond implementation limit\n",
      "attempt to save state beyond implementation limit\n",
      "attempt to save state beyond implementation limit\n",
      "attempt to save state beyond implementation limit\n",
      "attempt to save state beyond implementation limit\n",
      "attempt to save state beyond implementation limit\n",
      "attempt to save state beyond implementation limit\n",
      "attempt to save state beyond implementation limit\n",
      "attempt to save state beyond implementation limit\n",
      "attempt to save state beyond implementation limit\n",
      "attempt to save state beyond implementation limit\n",
      "attempt to save state beyond implementation limit\n",
      "attempt to save state beyond implementation limit\n",
      "attempt to save state beyond implementation limit\n",
      "attempt to save state beyond implementation limit\n",
      "attempt to save state beyond implementation limit\n",
      "attempt to save state beyond implementation limit\n",
      "attempt to save state beyond implementation limit\n",
      "attempt to save state beyond implementation limit\n",
      "attempt to save state beyond implementation limit\n",
      "attempt to save state beyond implementation limit\n",
      "attempt to save state beyond implementation limit\n",
      "attempt to save state beyond implementation limit\n",
      "attempt to save state beyond implementation limit\n",
      "attempt to save state beyond implementation limit\n",
      "attempt to save state beyond implementation limit\n",
      "attempt to save state beyond implementation limit\n",
      "attempt to save state beyond implementation limit\n",
      "attempt to save state beyond implementation limit\n",
      "attempt to save state beyond implementation limit\n",
      "attempt to save state beyond implementation limit\n",
      "attempt to save state beyond implementation limit\n",
      "attempt to save state beyond implementation limit\n",
      "attempt to save state beyond implementation limit\n",
      "attempt to save state beyond implementation limit\n",
      "attempt to save state beyond implementation limit\n",
      "attempt to save state beyond implementation limit\n",
      "attempt to save state beyond implementation limit\n",
      "attempt to save state beyond implementation limit\n",
      "attempt to save state beyond implementation limit\n",
      "attempt to save state beyond implementation limit\n",
      "attempt to save state beyond implementation limit\n",
      "attempt to save state beyond implementation limit\n",
      "attempt to save state beyond implementation limit\n",
      "attempt to save state beyond implementation limit\n",
      "attempt to save state beyond implementation limit\n",
      "attempt to save state beyond implementation limit\n",
      "attempt to save state beyond implementation limit\n",
      "attempt to save state beyond implementation limit\n",
      "attempt to save state beyond implementation limit\n",
      "attempt to save state beyond implementation limit\n",
      "attempt to save state beyond implementation limit\n"
     ]
    }
   ],
   "source": [
    "# my version same as ex1\n",
    "using Plots\n",
    "\n",
    "@views function acoustic_2D()\n",
    "    # Physics\n",
    "    Lx, Ly = 10.0, 10.0\n",
    "    ρ      = 1.0\n",
    "    K      = 1.0\n",
    "    ttot   = 20.0\n",
    "    # Numerics\n",
    "    nx, ny = 128, 129\n",
    "    nout   = 10\n",
    "    # Derived numerics\n",
    "    dx, dy = Lx/nx, Ly/ny\n",
    "    dt     = min(dx, dy)/sqrt(K/ρ)/2.1\n",
    "    nt     = cld(ttot, dt)\n",
    "    xc, yc = LinRange(dx/2, Lx-dx/2, nx), LinRange(dy/2, Ly-dy/2, ny)\n",
    "    # Array initialisation\n",
    "    P      =  exp.(.-(xc .- Lx/2).^2 .-(yc' .- Ly/2).^2)\n",
    "    Vx     = zeros(Float64, nx-1,ny-2)\n",
    "    Vy     = zeros(Float64, nx-2,ny-1)\n",
    "    # Time loop\n",
    "    for it = 1:nt\n",
    "        Vx  .= Vx .- dt./ρ.*diff(P[:,2:end-1],dims=1)./dx\n",
    "        Vy  .= Vy .- dt./ρ.*diff(P[2:end-1,:],dims=2)./dy\n",
    "        P[2:end-1,2:end-1] .= P[2:end-1,2:end-1] .- dt.*K.*(diff(Vx,dims=1)./dx .+ diff(Vy,dims=2)./dy)\n",
    "        if it % nout == 0\n",
    "            opts = (aspect_ratio=1, xlims=(xc[1], xc[end]), ylims=(yc[1], yc[end]), clims=(-0.25, 0.25), c=:davos, xlabel=\"Lx\", ylabel=\"Ly\", title=\"time = $(round(it*dt, sigdigits=3))\")\n",
    "            Pplot = heatmap(xc, yc, P'; opts...) \n",
    "            Vxplot = heatmap(xc,yc, Vx'; opts...)\n",
    "            Pcrosssec = heatmap(xc, [fld(ny,2)], P[:,fld(ny,2)]') \n",
    "            # plot(Pplot, Vxplot, Pcrosssec, layout = @layout [ a b ; c ]) |> display\n",
    "        end\n",
    "    end\n",
    "end\n",
    "\n",
    "acoustic_2D()"
   ]
  }
 ],
 "metadata": {
  "kernelspec": {
   "display_name": "Julia 1.7.2",
   "language": "julia",
   "name": "julia-1.7"
  },
  "language_info": {
   "file_extension": ".jl",
   "mimetype": "application/julia",
   "name": "julia",
   "version": "1.7.2"
  }
 },
 "nbformat": 4,
 "nbformat_minor": 3
}
