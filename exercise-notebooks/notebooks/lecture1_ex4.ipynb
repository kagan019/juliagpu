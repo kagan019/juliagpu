{
 "cells": [
  {
   "cell_type": "markdown",
   "metadata": {},
   "source": [
    "## Exercise 4 - **Volcanic bomb**"
   ]
  },
  {
   "cell_type": "markdown",
   "metadata": {},
   "source": [
    "The goal of this exercise is to consolidate:\n",
    "- code structure `# Physics, # Numerics, # Time loop, # Visualisation`\n",
    "- array initialisation\n",
    "- update rule\n",
    "- `if` condition"
   ]
  },
  {
   "cell_type": "markdown",
   "metadata": {},
   "source": [
    "You will now simulate the trajectory of a [volcanic bomb](https://en.wikipedia.org/wiki/Volcanic_bomb) that got ejected during a volcanic eruption. The ejection speed is given by the horizontal and vertical velocity components\n",
    "$$\n",
    "V_x = \\frac{\\partial x}{\\partial t}\\\\[10pt]\n",
    "V_y = \\frac{\\partial y}{\\partial t}\n",
    "$$\n",
    "\n",
    "Once ejected, the volcanic bomb is subject to gravity acceleration $g$. Air friction will be neglected. Acceleration being defined as the change of velocity over time, we obtain the following update rule:\n",
    "$$\n",
    "\\frac{\\partial V_y}{\\partial t}=-g\n",
    "$$\n",
    "\n",
    "These equations define a mathematical model describing the kinematics of the volcanic bomb. You may remember from your studies how to solve those equation analytically; however we'll here focus on a numerical solution using a similar approach as for the previous exercises. The $x$ and $y$ location of the bomb as function of time can be obtained based on updating previous values using the definition of velocity:\n",
    "$$\n",
    "x_{t+\\Delta t} = x_{t} + V_x    \\Delta t~,\\\\[5pt]\n",
    "y_{t+\\Delta t} = y_{t} + V_y(t) \\Delta t~.\n",
    "$$\n",
    "And because of gravity acceleration, the $V_y$ velocity evolution can be obtained according to\n",
    "$$\n",
    "V_{y,t+\\Delta t} = V_{y,t} - g \\Delta t~.\n",
    "$$\n",
    "\n",
    "The 3 equations above represent the discretised form of the 3 first equations and should be used to solve the problem numerically. The initial position of the volcanic bomb $(x_0, y_0)=(0,480)$ m. The magnitude of the ejection speed is of 120 m/s and the angle $\\alpha = 60°$. The simulation stops when the volcanic bomb touches the ground ($y=0$)."
   ]
  },
  {
   "cell_type": "markdown",
   "metadata": {},
   "source": [
    "> 💡 hint:\n",
    "> - Modify the code from exercise 3 to, in addition, account for the change of `Vy` with time\n",
    "> - Use e.g. a `break` statement to exit the loop once the bomb hits the ground"
   ]
  },
  {
   "cell_type": "code",
   "execution_count": 1,
   "metadata": {},
   "outputs": [],
   "source": [
    "Δt = 0.1\n",
    "xi, yi = 0, 480\n",
    "V_abs_i = 120\n",
    "α_i = 60\n",
    "g = 9.8\n",
    "\n",
    "Vx = [V_abs_i*cosd(α_i)]\n",
    "Vy = [V_abs_i*sind(α_i)]\n",
    "X = Float64[0]\n",
    "Y = Float64[480]\n",
    "T = Float64[0]\n",
    "\n",
    "nextx() = X[end] + Vx[end]*Δt\n",
    "nexty() = Y[end] + Vy[end]*Δt\n",
    "nextVx() = Vx[end]\n",
    "nextVy() = Vy[end] - g*Δt\n",
    "nextT() = T[end] + Δt\n",
    "\n",
    "while Y[end] > 0\n",
    "    push!(T,nextT())\n",
    "    push!(X, nextx())\n",
    "    push!(Y, nexty())\n",
    "    push!(Vx, nextVx())\n",
    "    push!(Vy, nextVy())\n",
    "end"
   ]
  },
  {
   "cell_type": "markdown",
   "metadata": {},
   "source": [
    "### Question 1\n",
    "\n",
    "Report the height of the volcanic bomb at position $x=900$ m away from origin."
   ]
  },
  {
   "cell_type": "code",
   "execution_count": 5,
   "metadata": {},
   "outputs": [
    {
     "name": "stdout",
     "output_type": "stream",
     "text": [
      "height=943.695726811988\n"
     ]
    }
   ],
   "source": [
    "println(\"height=$(Y[indexin(900, X)[1]])\")\n"
   ]
  },
  {
   "cell_type": "code",
   "execution_count": null,
   "metadata": {},
   "outputs": [],
   "source": []
  }
 ],
 "metadata": {
  "kernelspec": {
   "display_name": "Julia 1.7.0",
   "language": "julia",
   "name": "julia-1.7"
  },
  "language_info": {
   "file_extension": ".jl",
   "mimetype": "application/julia",
   "name": "julia",
   "version": "1.7.0"
  }
 },
 "nbformat": 4,
 "nbformat_minor": 3
}
